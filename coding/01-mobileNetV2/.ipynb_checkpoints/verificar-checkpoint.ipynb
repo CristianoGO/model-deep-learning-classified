{
 "cells": [
  {
   "cell_type": "code",
   "execution_count": 10,
   "id": "7f2edd84-ea27-45c8-a186-3fc836f4907d",
   "metadata": {},
   "outputs": [
    {
     "name": "stdout",
     "output_type": "stream",
     "text": [
      "Classe identificada: melanoma\n",
      "Confiança: 96.00%\n"
     ]
    }
   ],
   "source": [
    "import tensorflow as tf\n",
    "import numpy as np\n",
    "from PIL import Image\n",
    "\n",
    "# Carregar os rótulos (assumindo que você tem um arquivo labels.txt com as classes)\n",
    "with open('/home/cristiano/www/skin_cancer_prediction/ISIC_2020/labels.txt', 'r') as f:\n",
    "    labels = [line.strip() for line in f.readlines()]\n",
    "\n",
    "# Carregar o modelo TFLite\n",
    "interpreter = tf.lite.Interpreter(model_path=\"/home/cristiano/project_skin_app/model_tflite/model_fold_1_quant.tflite\")\n",
    "interpreter.allocate_tensors()\n",
    "\n",
    "# Preparar a imagem\n",
    "image = Image.open('/home/cristiano/www/skin_cancer_prediction/ISIC_2020/division_imgs/carcinoma_basocelular/train/bcc_ISIC_0025301.jpg').resize((224, 224))\n",
    "input_data = np.expand_dims(np.array(image, dtype=np.float32), axis=0)\n",
    "\n",
    "# Normalizar a imagem (caso necessário)\n",
    "input_data = input_data / 255.0\n",
    "\n",
    "# Obter os detalhes do tensor\n",
    "input_details = interpreter.get_input_details()\n",
    "output_details = interpreter.get_output_details()\n",
    "\n",
    "# Definir o tensor de entrada e executar a inferência\n",
    "interpreter.set_tensor(input_details[0]['index'], input_data)\n",
    "interpreter.invoke()\n",
    "\n",
    "# Obter a saída\n",
    "output_data = interpreter.get_tensor(output_details[0]['index'])\n",
    "\n",
    "# Encontrar o índice da classe com maior probabilidade\n",
    "predicted_idx = np.argmax(output_data)\n",
    "\n",
    "# Mostrar o rótulo correspondente à classe predita\n",
    "predicted_label = labels[predicted_idx]\n",
    "confidence = output_data[0][predicted_idx] * 100  # Confiança em porcentagem\n",
    "\n",
    "# Exibir a classe identificada e a confiança\n",
    "print(f\"Classe identificada: {predicted_label}\")\n",
    "print(f\"Confiança: {confidence:.2f}%\")"
   ]
  },
  {
   "cell_type": "code",
   "execution_count": null,
   "id": "dddc2813-b650-477e-b902-9e5073f29b3b",
   "metadata": {},
   "outputs": [],
   "source": []
  }
 ],
 "metadata": {
  "kernelspec": {
   "display_name": "Python 3 (ipykernel)",
   "language": "python",
   "name": "python3"
  },
  "language_info": {
   "codemirror_mode": {
    "name": "ipython",
    "version": 3
   },
   "file_extension": ".py",
   "mimetype": "text/x-python",
   "name": "python",
   "nbconvert_exporter": "python",
   "pygments_lexer": "ipython3",
   "version": "3.11.8"
  }
 },
 "nbformat": 4,
 "nbformat_minor": 5
}
