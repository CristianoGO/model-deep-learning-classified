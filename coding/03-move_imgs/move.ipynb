{
 "cells": [
  {
   "cell_type": "code",
   "execution_count": 3,
   "id": "d9ce55d9-5991-4402-9717-fa27989878d2",
   "metadata": {},
   "outputs": [],
   "source": [
    "import os\n",
    "import random\n",
    "import shutil"
   ]
  },
  {
   "cell_type": "code",
   "execution_count": 4,
   "id": "19e2ad28-531a-4038-b20f-37c894e4213a",
   "metadata": {},
   "outputs": [
    {
     "name": "stdout",
     "output_type": "stream",
     "text": [
      "20% das imagens foram movidas para teste.\n"
     ]
    }
   ],
   "source": [
    "pasta_origem = \"/home/cristiano/www/skin_cancer_prediction/ISIC_2020/division_imgs/melanoma/train/\"\n",
    "\n",
    "arquivos = os.listdir(pasta_origem)\n",
    "imagens_escolhidas = random.sample(arquivos, 900)\n",
    "\n",
    "pasta_destino = \"/home/cristiano/www/skin_cancer_prediction/ISIC_2020/division_imgs/melanoma/test/\"\n",
    "\n",
    "if not os.path.exists(pasta_destino):\n",
    "    os.makedirs(pasta_destino)\n",
    "\n",
    "for imagem in imagens_escolhidas:\n",
    "    origem = os.path.join(pasta_origem, imagem)\n",
    "    destino = os.path.join(pasta_destino, imagem)\n",
    "    shutil.copy(origem, destino)\n",
    "\n",
    "print(\"20% das imagens foram movidas para teste.\")\n",
    "\n"
   ]
  },
  {
   "cell_type": "code",
   "execution_count": 5,
   "id": "bc9daf1f-8178-456e-9c16-df99287ca5d2",
   "metadata": {},
   "outputs": [
    {
     "name": "stdout",
     "output_type": "stream",
     "text": [
      "20% das imagens foram movidas para testes.\n"
     ]
    }
   ],
   "source": [
    "pasta_origem = \"/home/cristiano/www/skin_cancer_prediction/ISIC_2020/division_imgs/cercinoma_basocelular/train/\"\n",
    "\n",
    "arquivos = os.listdir(pasta_origem)\n",
    "imagens_escolhidas = random.sample(arquivos, 660)\n",
    "\n",
    "pasta_destino = \"/home/cristiano/www/skin_cancer_prediction/ISIC_2020/division_imgs/cercinoma_basocelular/test/\"\n",
    "\n",
    "if not os.path.exists(pasta_destino):\n",
    "    os.makedirs(pasta_destino)\n",
    "\n",
    "for imagem in imagens_escolhidas:\n",
    "    origem = os.path.join(pasta_origem, imagem)\n",
    "    destino = os.path.join(pasta_destino, imagem)\n",
    "    shutil.copy(origem, destino)\n",
    "\n",
    "print(\"20% das imagens foram movidas para testes.\")"
   ]
  }
 ],
 "metadata": {
  "kernelspec": {
   "display_name": "Python 3 (ipykernel)",
   "language": "python",
   "name": "python3"
  },
  "language_info": {
   "codemirror_mode": {
    "name": "ipython",
    "version": 3
   },
   "file_extension": ".py",
   "mimetype": "text/x-python",
   "name": "python",
   "nbconvert_exporter": "python",
   "pygments_lexer": "ipython3",
   "version": "3.11.8"
  }
 },
 "nbformat": 4,
 "nbformat_minor": 5
}
